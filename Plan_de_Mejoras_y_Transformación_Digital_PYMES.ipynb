{
  "nbformat": 4,
  "nbformat_minor": 0,
  "metadata": {
    "colab": {
      "provenance": [],
      "authorship_tag": "ABX9TyP3A95lMEq8Aix6l7mvi0tk",
      "include_colab_link": true
    },
    "kernelspec": {
      "name": "python3",
      "display_name": "Python 3"
    },
    "language_info": {
      "name": "python"
    }
  },
  "cells": [
    {
      "cell_type": "markdown",
      "metadata": {
        "id": "view-in-github",
        "colab_type": "text"
      },
      "source": [
        "<a href=\"https://colab.research.google.com/github/csiglab/digital-transformation-minor-lab/blob/main/Plan_de_Mejoras_y_Transformaci%C3%B3n_Digital_PYMES.ipynb\" target=\"_parent\"><img src=\"https://colab.research.google.com/assets/colab-badge.svg\" alt=\"Open In Colab\"/></a>"
      ]
    },
    {
      "cell_type": "markdown",
      "source": [
        "# Plan de Mejoras y Transformación Digital PYMES"
      ],
      "metadata": {
        "id": "WKIHSqKpNaBD"
      }
    },
    {
      "cell_type": "markdown",
      "source": [
        "Blog of Digital Transformation    (Newsletter) / (Boletín Informativo)\n",
        "------------------------------\n",
        "\n",
        "https://www.labpyme.com/\n",
        "\n",
        "Plan de Digitalización de PYMEs 2021-2025\n",
        "https://espanadigital.gob.es/medida/plan-de-digitalizacion-de-pymes-2021-2025\n",
        "\n",
        "\n",
        "Productivity\n",
        "- Formalizacion de Los Procesos Operativos\n",
        "- Adaptación Ambiente Negocios Nacional\n",
        "- .../"
      ],
      "metadata": {
        "id": "hQsCTIPoReXR"
      }
    },
    {
      "cell_type": "markdown",
      "source": [
        "## Referencias"
      ],
      "metadata": {
        "id": "_9zJS_rGNjDb"
      }
    },
    {
      "cell_type": "markdown",
      "source": [
        "...."
      ],
      "metadata": {
        "id": "icKXD8NDQHaC"
      }
    }
  ]
}