{
  "nbformat": 4,
  "nbformat_minor": 0,
  "metadata": {
    "colab": {
      "provenance": [],
      "include_colab_link": true
    },
    "kernelspec": {
      "name": "python3",
      "display_name": "Python 3"
    },
    "language_info": {
      "name": "python"
    }
  },
  "cells": [
    {
      "cell_type": "markdown",
      "metadata": {
        "id": "view-in-github",
        "colab_type": "text"
      },
      "source": [
        "<a href=\"https://colab.research.google.com/github/csiglab/digital-transformation-minor-lab/blob/main/research/sni/Propuesta_Sistema_Nacional_de_Innovacion.ipynb\" target=\"_parent\"><img src=\"https://colab.research.google.com/assets/colab-badge.svg\" alt=\"Open In Colab\"/></a>"
      ]
    },
    {
      "cell_type": "markdown",
      "source": [
        "# Propuesta: Sistema Nacional de Innovacion"
      ],
      "metadata": {
        "id": "eSP-15eK2IeX"
      }
    },
    {
      "cell_type": "markdown",
      "source": [
        "> Consejo Nacional de Asuntos Tecnocientíficos.\n",
        "\n",
        "> Organo de diseño de opliticas de ciencias básicas y aplicadas.\n",
        "\n",
        "> **Objetivo**: Adoptar, localizar, investigar y detallar tecnología crítica para el crecimiento económico de la patria."
      ],
      "metadata": {
        "id": "D9_6ljsjV8Je"
      }
    },
    {
      "cell_type": "markdown",
      "source": [
        "## Services\n",
        "\n",
        "> **Research centers** offer various services across different domains, catering to the needs of industries, academia, and society.\n",
        ">\n",
        "\n",
        "Here is a list of **common types of services** that research centers may offer:\n",
        "\n",
        "1. **Research and Development (R&D) Services:** Conducting fundamental and applied research in various scientific and technological fields.\n",
        "2. **Technical Consultancy: E**xpertise and advice on technical issues, problem-solving, and innovation.\n",
        "3. **Laboratory Testing and Analysis:** Conduct experiments and test materials and analyze data in specialized laboratories.\n",
        "4. **Product Development Support:** Assisting businesses in developing and improving products or processes.\n",
        "5. **Training and Capacity Building:** Offering workshops, courses, and training programs to enhance skills and knowledge in specific areas.\n",
        "6. **Technology Transfer:** Facilitating technology and knowledge transfer from research institutions to industries or other organizations.\n",
        "7. **Prototyping and Modeling:** Creating prototypes and models to test and visualize new concepts or products.\n",
        "8. **Market Research:** Conduct studies to gather information on market trends, consumer behavior, and industry insights.\n",
        "9. **Policy Analysis and Advice:** Providing expertise to policymakers by analyzing data and offering recommendations on relevant issues.\n",
        "10. **Data Management and Analysis:** Assisted in collecting, managing, and analyzing data for research purposes.\n",
        "11. **Environmental Impact Assessments:** Evaluating the potential environmental impact of projects, policies, or developments.\n",
        "12. **Standardization and Quality Control:** Developing and implementing standards for products and services and ensuring quality control.\n",
        "13. **Customized Research Projects:** Undertaking specific research projects tailored to the needs of clients or collaborators.\n",
        "14. **Innovation and Entrepreneurship Support:** Supporting startups and entrepreneurs in developing and commercializing innovative ideas.\n",
        "15. **Collaborative Research Initiatives:** Participating in collaborative projects with other research institutions, industries, and government agencies.\n",
        "16. **Public Outreach and Education Programs:** Engaging with the public through educational programs, science communication, and outreach activities.\n",
        "17. **Intellectual Property Services:** Assisting in the protection, management, and commercialization of intellectual property, including patents and copyrights.\n",
        "18. **Event Hosting and Conferences:** Hosting conferences, seminars, and events to facilitate knowledge sharing and networking.\n",
        "19. Create new industries\n",
        "20. Adopt / Master existing technologies.\n"
      ],
      "metadata": {
        "id": "5j6mpH_JWU2W"
      }
    },
    {
      "cell_type": "markdown",
      "source": [
        "## Organization (Policy)\n",
        "\n",
        "> <Speak about the model>\n",
        ">\n",
        "\n",
        "[Patronato](https://www.notion.so/Patronato-f77d886790c34d6d9158c36654d6ca5d?pvs=21)\n",
        "\n",
        "[Observatorio](https://www.notion.so/Observatorio-eb3afbac260d41fab822db21033a816c?pvs=21)\n",
        "\n",
        "[Control](https://www.notion.so/Control-9f9e2ada6f534cedbe8e214a777fe205?pvs=21)\n",
        "\n",
        "- Minor Council of Projects\n",
        "- Minor Council of Health Research\n",
        "- Minor Council of Energy Research\n",
        "- Minor Council of Defense Research\n",
        "- Minor Council of Service Research\n",
        "- Minor Council of Technical Research\n",
        "- Minor Council of Agricultural Research\n",
        "- Minor Council of Fundamental Research\n",
        "- Minor Council of Metrology and Standards\n",
        "- Minor Council of Public Administration Research\n",
        "\n",
        "[Consejo Menor Universidades de Investigación y Desarollo](https://www.notion.so/Consejo-Menor-Universidades-de-Investigaci-n-y-Desarollo-680604236be64addbc4157a9ed15e7ad?pvs=21)\n"
      ],
      "metadata": {
        "id": "o4qv5VlfWQwu"
      }
    },
    {
      "cell_type": "markdown",
      "source": [
        "## Agencies (Mechanism)\n",
        "\n",
        "[Cienceria](https://www.notion.so/Cienceria-845c74ed385a4523be1b034aaabccd1a?pvs=21)\n",
        "\n",
        "[Agrideria](https://www.notion.so/Agrideria-7b7a3726b7224eeea185abb039f2a407?pvs=21)\n",
        "\n",
        "[Energeria](https://www.notion.so/Energeria-0ba81307eaff499691ccf6e7a3c0d621?pvs=21)\n",
        "\n",
        "[Saluderia](https://www.notion.so/Saluderia-504a8074a29a423d95808bf19bfb8a25?pvs=21)\n",
        "\n",
        "[Servideria](https://www.notion.so/Servideria-73ae6e89487b45de8823280acee52304?pvs=21)\n",
        "\n",
        "[Metrologia](https://www.notion.so/Metrologia-b234f57194c047bd927967f4c49f7f25?pvs=21)\n",
        "\n",
        "[Defenseria](https://www.notion.so/Defenseria-15e55b17ad9841c182b7e06d86e85592?pvs=21)\n",
        "\n",
        "[Espacieria](https://www.notion.so/Espacieria-9f41f7ca48e14fafbf48295318c23460?pvs=21)\n",
        "\n",
        "[Tecnoderia](https://www.notion.so/Tecnoderia-ea48470ed4d747af8e732cfbb78da2b7?pvs=21)\n",
        "\n",
        "[Gubernandi](https://www.notion.so/Gubernandi-8ca20da2e38244568f838aac28274be8?pvs=21)\n",
        "\n",
        "[Computaderia](https://www.notion.so/Computaderia-a9ddbe3f7fb54514a0a97df607c1d8dd?pvs=21)\n",
        "\n",
        "[Laboratorio Mayor de Proyectos Avanzados](https://www.notion.so/Laboratorio-Mayor-de-Proyectos-Avanzados-797eb7bf970e4a918e3b558debff7f62?pvs=21)\n",
        "\n",
        "[Laboratorio Mayor Politicas T*ecnocientíficas*](https://www.notion.so/Laboratorio-Mayor-Politicas-Tecnocient-ficas-a51d9e3f69744975b0fd723ede8ff90a?pvs=21)"
      ],
      "metadata": {
        "id": "ijRjda7UWN6G"
      }
    },
    {
      "cell_type": "markdown",
      "source": [
        "## References\n",
        "\n",
        "- [Centre National de la Recherche Scientifique](https://www.notion.so/Centre-National-de-la-Recherche-Scientifique-d02f3f8c270f41b390b210de9681f1df?pvs=21)\n",
        "\n",
        "- Market Research Business https://business.yougov.com/\n",
        "- [Research university](https://en.wikipedia.org/wiki/Research_university)\n",
        "- [Research Council of Finland](https://www.aka.fi/en/)\n",
        "- [Investigación, desarrollo e innovación](https://es.wikipedia.org/wiki/Investigaci%C3%B3n,_desarrollo_e_innovaci%C3%B3n)\n",
        "- [THE LITHUANIAN INNOVATION DEVELOPMENT PROGRAMME 2014–2020](https://eimin.lrv.lt/uploads/eimin/documents/files/Lietuvos%20inovacij%C5%B3%20pl%C4%97tros%20programa_patvirtinta%202013%2012%2018_EN.pdf)\n",
        "- [What equipment does your R&D lab need?](https://processandcontrolmag.co.uk/what-equipment-does-your-rd-lab-need/)\n",
        "- Griffin, Abbie, and John R. Hauser. \"Integrating R&D and marketing: A review and analysis of the literature.\" *Journal of Product Innovation Management: An International Publication of the Product Development & Management Association* 13.3 (1996): 191-215.\n",
        "- Intarakumnerd, Patarapong, and Akira Goto. \"Role of public research institutes in national innovation systems in industrialized countries:  The cases of Fraunhofer, NIST, CSIRO, AIST, and ITRI.\" *Research Policy* 47.7 (2018): 1309-1320.\n",
        "- Intarakumnerd, Patarapong, and Pun-arj Chairatana. \"Shifting S&T policy paradigm: an experience of an RTO in Thailand.\" *International Journal of Technology and Globalisation* 4.2 (2008): 121-138.\n",
        "- Lundvall, Bengt-Åke, et al. \"Asia’s innovation systems in transition: An introduction.\" *Asia’s innovation system in transition* (2006): 1-20.\n",
        "- Intarakumnerd, P., and T. Virasa. \"Government policies and measures in\n",
        "supporting technological capability development of latecomer firms: a\n",
        "tentative taxonomy.\" *Asian Journal of Technology Innovation* 12.2 (2004): 1-19.\n",
        "- Intarakumnerd, Patarapong, and Thanaphol Virasa. \"Broader roles of RTOs\n",
        "in developing countries: from knowledge-creators to strengtheners of\n",
        "national innovation system.\" *Science, Technology and Innovation Conference, JFK School of government, Harvard University*. 2002.\n",
        "- Intarakumnerd, Patarapong, et al. \"Successes and Failures of an\n",
        "Intermediary in Triple Helix Relationships in Developing Countries: the\n",
        "Case of Thailand’s Food Industry.\" *Book of Abstracts*. 2010.\n",
        "- Intarakumnerd, Patarapong, and Cristina Chaminade. \"Innovation policies in Thailand: towards a system of innovation approach?.\" *Asia Pacific Business Review* 17.02 (2011): 241-256.\n",
        "- Intarakumnerd, Patarapong, and Akira Goto. \"Technology and Innovation Policies for SMEs in East Asia.\" *SMEs* (2016): 24.\n",
        "- Intarakumnerd, Patarapong, and Kasititorn Pooparadai. \"Innovation System for ICT: The Case of Thailand'.\" *Bridging the digital divide: innovation systems for ICT in Brazil, China, India, Thailand and Southern Africa* (2006): 153.\n",
        "- Intarakumnerd, Patarapong, Richard F. Doner, and Bryan K. Ritchie.\n",
        "\"Universities in Thailand’s national innovation system: Their\n",
        "contributions on industrial and technological upgrading 1.\" *Universities in the National Innovation Systems*. Routledge India, 2017. 305-327.\n",
        "- Intarakumnerd, Patarapong, Nathasit Gerdsri, and P. H. D. PARD TEEKASAP.\n",
        " \"Enhancing Innovation Capability Using Local Universities and Public\n",
        "Research Institutes as External Resources: Thailand’s Experiences.\" *EXTERNAL RESOURCES FOR FIRMS’INNOVATION* (2011): 1.\n",
        "- Cohen, Wesley M., Richard R. Nelson, and John P. Walsh. \"Links and impacts: the influence of public research on industrial R&D.\" Management science 48.1 (2002): 1-23.\n",
        "- Cohen, Wesley M., et al. \"R&D spillovers, patents and the incentives to innovate in Japan and the United States.\" Research policy 31.8-9 (2002): 1349-1367.\n",
        "- Boeing, Philipp, and Paul Hünermund. \"A global decline in research productivity? Evidence from China and Germany.\" Economics Letters 197 (2020): 109646.\n",
        "Boeing,\n",
        "- Champenois, C., & Etzkowitz, H. (2018). From boundary line to boundary space: The creation of hybrid organizations as a Triple Helix micro-foundation. Technovation, 76, 28–39.\n",
        "- Etzkowitz, H. (2003). Research groups as ‘quasi-firms’: the invention of the entrepreneurial university. 32(1), 109–121.\n",
        "- New innovation approaches to support the implementation of the Sustainable Development Goals\n",
        "- Sustaining public sector capability in developing countries - - Bibliography and literature reviews - 10178.pdf\n",
        "- Building the Entrepreneurial State: A New Framework for Envisioning and Evaluating a Mission-oriented Public Sector - wp_824.pdf\n",
        "- Systems of innovation: technologies, institutions, and organizations by Charles Edquist\n",
        "- Reorganising global value chains and building innovation capabilities in Brazil and India in Research Policy - by Rasmus Lema; Ruy Quadros; Hubert Schmitz\n",
        "- Technology innovation and entrepreneurial state: the development of China's high-speed rail industry - by Zhe Sun\n",
        "- Three frames for innovation policy: R&D, systems of innovation and transformative change - by Johan Schot; W. Edward Steinmueller\n",
        "- Triple Helix indicators of knowledge-based innovation systems - by Loet Leydesdorff; Martin Meyer\n",
        "- Intarakumnerd, Patarapong. \"Two models of research technology organisations in Asia.\" *Science, Technology and Society* 16.1 (2011): 11-28.\n",
        "- Etzkowitz, Henry. \"Research groups as ‘quasi-firms’: the invention of the entrepreneurial university.\" Research policy 32.1 (2003): 109-121.\n",
        "- [Public Scientific and Technical Research Establishment](https://en.wikipedia.org/wiki/Public_Scientific_and_Technical_Research_Establishment)"
      ],
      "metadata": {
        "id": "5rrSR5CYWJoj"
      }
    }
  ]
}