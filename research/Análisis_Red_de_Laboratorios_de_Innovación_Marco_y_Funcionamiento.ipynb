{
  "nbformat": 4,
  "nbformat_minor": 0,
  "metadata": {
    "colab": {
      "provenance": [],
      "include_colab_link": true
    },
    "kernelspec": {
      "name": "python3",
      "display_name": "Python 3"
    },
    "language_info": {
      "name": "python"
    }
  },
  "cells": [
    {
      "cell_type": "markdown",
      "metadata": {
        "id": "view-in-github",
        "colab_type": "text"
      },
      "source": [
        "<a href=\"https://colab.research.google.com/github/csiglab/digital-transformation-minor-lab/blob/main/research/An%C3%A1lisis_Red_de_Laboratorios_de_Innovaci%C3%B3n_Marco_y_Funcionamiento.ipynb\" target=\"_parent\"><img src=\"https://colab.research.google.com/assets/colab-badge.svg\" alt=\"Open In Colab\"/></a>"
      ]
    },
    {
      "cell_type": "markdown",
      "source": [
        "# Análisis: Red de Laboratorios de Innovación: Marco y Funcionamiento"
      ],
      "metadata": {
        "id": "l0kfPoECeFH3"
      }
    },
    {
      "cell_type": "markdown",
      "source": [
        "## Marco"
      ],
      "metadata": {
        "id": "yaKYkPYisnvN"
      }
    },
    {
      "cell_type": "markdown",
      "source": [
        "¿Qué es la Riqueza de un Pais?\n",
        "\n",
        "> **Riqueza**: Es el resultado de la expansión de los bienes y servicios (formas de transformar la naturaleza) producidos y la eficiencia con que se haga.\n",
        "\n",
        "> La producción de bienes se subdivide en fases en las **llamadas cadenas** de valor; a medida que los bienes son **más complejos**, las cadenas de valor tienden a ser más largas.\n",
        "\n",
        ">  La **riqueza** de los países depende de la **eficiencia de la producción** de bienes y servicios, así como de su **naturaleza** (ya sean cadenas de valor cortas o largas) practicadas en su territorio con una intensa participación del **tejido empresarial local**.\n",
        "\n",
        "¿Cómo puede un país desarrollar una economía sofisticada y moderna?\n",
        "\n",
        "> Esto consiste en acumular un conjunto de **capacidades productivas** que permitan producir una serie de bienes y servicios de alto valor agregado (cadenas de valor largas), con una participación razonable del **tejido empresarial local** y con la capacidad de **inyectar nuevos conocimientos** a este aparato productivo por parte de un Sistema Nacional de Innovación **(SNI)**, para expandir la frontera de productos o mejorar los actuales.\n",
        "\n",
        "> Es clave tener una **institución central** que coordine el proceso de convergencia, permitiendo vincular las finanzas con las empresas y con el **SNI**. No se puede tener una estrategia de innovación sin una política productiva; son caras de la misma moneda.\n",
        "\n",
        "¿Cúal es el papel de la Ciencia y Tecnología y el **SNI** en el desarrollo una economía?\n",
        "\n",
        "> La **ciencia** nos permite descubrir los principios articuladores de la naturaleza.\n",
        "\n",
        "> La **tecnología** nos permite utilizar los **principios científicos** para desarrollar productos que resuelvan problemas concretos, como la salud, la alimentación, la comunicación, la computación, el transporte, la infraestructura, etc.\n",
        "\n",
        "> El rol del **SIN** es capacitar el aparato productivo; requiere desarrollar, mejorar, adoptar y adaptar la tecnología utilizada en los procesos productivos; localizarla (parcial o totalmente) y desarrollar nuevas tecnologías para expandir las capacidades del aparato productivo, permitiendo la conquista de nuevos horizontes.\n",
        "\n",
        "> Adaptación: El **sistema de innovación y desarrollo** se adapta y pasa de ofrecer servicios básicos y adaptación de tecnología hasta el diseño y desarrollo en la frontera tecnológica."
      ],
      "metadata": {
        "id": "7dwyRTKkZGam"
      }
    },
    {
      "cell_type": "markdown",
      "source": [
        "## Analisis-Evaluación: Red de Laboratorios de Innovación: Marco y Funcionamiento\n"
      ],
      "metadata": {
        "id": "x9wtiC1sY-WH"
      }
    },
    {
      "cell_type": "markdown",
      "source": [
        "### Brevarium\n",
        "\n",
        "> Si asumimos las premisas especificadas en el **marco anterior**, este documento se caracteriza por no ofrecer una **visión claro** sobre la función y participación del **SNI** en el **ecosistema productivo**, los mecanismos financieros y el órgano coordinador central de la política productiva;  **poniendo en peligro** la efectividad del mismo.\n",
        "\n",
        "> Los **mecanismos** propuestos no tienen la intención de ofrecer servicios de **I+D+I** a las empresas; es más bien  es un plan para establecer laboratorios de distintas naturalezas:  gobiernos, empresas, etc; \"estandarizados\" y que están supuestos a ser centros donde se \"colabore\" e \"innove\".\n",
        "\n",
        "> Los mecanismos propuestos no completan el ciclo de crecimiento y desarrollo del **SIN**, de **innovación por imitación** a **innovación** original.\n",
        "\n",
        "> **Resumen**: He aquí una propuesta difusa que no toma en cuenta los ecosistemas productivos actuales y futuros, al no coordinarse con la política productiva.\n",
        "\n",
        "> En fin, entendemos que la **revisión** es necesaria antes de iniciar, ya que el marco de trabajo es inadecuado para enfrentar los retos de la **economía (presente y futura)** de nuestra patria. Corregirlo posteriormente sería **problemático**, ya que se trata de **aspectos estructurales**."
      ],
      "metadata": {
        "id": "VlrKjA0_ZAaG"
      }
    },
    {
      "cell_type": "markdown",
      "source": [
        "### Resumen: Red de Laboratorios de Innovación"
      ],
      "metadata": {
        "id": "PYGkUGznYt33"
      }
    },
    {
      "cell_type": "markdown",
      "source": [
        "> En este documento se plantea la **\"Red de Laboratorios de Innovación\"** como centros de innovación y ejemplo para siguientes **\"Cédulas\" de Innovación**.\n",
        "\n",
        "> **Red de Laboratorios de Innovación** representa un tejido conectado de creatividad, colaboración y compromiso con el progreso, trabajando en conjunto para construir un futuro más innovador y prometedor para República Dominicana.\n",
        "\n",
        "> **Justificación**: Ser catalizador de la transoformacion social y gubernamental; incrementar participacion activa del estado, para mejorar el bienestar del ciudadano y atacar los desafios que impactan la ciudadania.\n",
        "\n",
        "> **Objetivos**: Estandarizar las estructuras y funcionamientos de los  laboratorios existentes, al tiempo que sienta las bases para la creación de nuevos laboratorios a nivel nacional, todos alineados con el esquema definido.\n",
        "\n",
        "> **Modelo**: **Colaboración** entre el estado, sociedad civil, empresas y la academia.  La clase de colaboración no crea clara. Habla de centros de \"innovación\" en el abstracto como centros de colaboración.\n",
        "\n",
        "> **Centros de Innovación**: Estos centros no solo son espacios físicos para\n",
        "la experimentación y la creación, sino que  también actúan como nodos de conexión entre diversos actores clave: el sector empresarial, la\n",
        "academia, la sociedad civil y el gobierno.\n",
        "\n",
        "#### Laboratorios de Innovación\n",
        "\n",
        "Objetivos:\n",
        "\n",
        "- Fomentar la creatividad y la generación de ideas,\n",
        "- Desarrollar soluciones viables,\n",
        "- Fomentar la innovación ciudadana,\n",
        "- Promover la experimentación y el aprendizaje rápido,\n",
        "- Promover la cultura de la innovación,\n",
        "- Impulsar la eficiencia gubernamental,\n",
        "- Cultivar un ecosistema innovador,\n",
        "- Desarrollar talento local\n",
        "\n",
        "Laboratorios Existentes:\n",
        "\n",
        "- Laboratorio de Innovación Digital\n",
        "- ...\n",
        "\n",
        "Tipología:\n",
        "\n",
        "- Laboratorios de innovación corporativa,\n",
        "- Laboratorios de innovación afiliados a\n",
        "universidades,\n",
        "- Laboratorios de Innovación Gubernamental,\n",
        "- Laboratorios de Innovación Independientes/Abierta,\n",
        "- Laboratorios de Innovación Comunitarios\n",
        "\n",
        "#### Evaluación\n",
        "\n",
        "`...`"
      ],
      "metadata": {
        "id": "eG-DX5ejd_kM"
      }
    },
    {
      "cell_type": "markdown",
      "source": [
        "## References"
      ],
      "metadata": {
        "id": "uvmf5uusZPRn"
      }
    },
    {
      "cell_type": "markdown",
      "source": [
        "\n",
        "- OGTIC. (n.d.). Red de Laboratorios de Innovación: Marco y Funcionamiento.\n",
        "- Gabinete de Innovación  y Desarrollo Digital→ …\n",
        "- Política Nacional de Innovación 2030 (PNI 2030) → …\n",
        "- “The Corporate Startup” de Tendayi Viki, Dan Toma y Esther Gons, a menudo analizan el papel y la importancia de los laboratorios de innovación en los entornos organizacionales modernos.\n",
        "- …"
      ],
      "metadata": {
        "id": "cvXeO1hoZWm3"
      }
    }
  ]
}