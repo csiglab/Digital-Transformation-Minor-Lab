{
  "nbformat": 4,
  "nbformat_minor": 0,
  "metadata": {
    "colab": {
      "provenance": [],
      "include_colab_link": true
    },
    "kernelspec": {
      "name": "python3",
      "display_name": "Python 3"
    },
    "language_info": {
      "name": "python"
    }
  },
  "cells": [
    {
      "cell_type": "markdown",
      "metadata": {
        "id": "view-in-github",
        "colab_type": "text"
      },
      "source": [
        "<a href=\"https://colab.research.google.com/github/csiglab/digital-transformation-minor-lab/blob/main/agency/sni/saluderia/Observatory.ipynb\" target=\"_parent\"><img src=\"https://colab.research.google.com/assets/colab-badge.svg\" alt=\"Open In Colab\"/></a>"
      ]
    },
    {
      "cell_type": "markdown",
      "source": [
        "# Saluderia\n",
        "\n",
        "> Realizar **investigaciones avanzadas** en el área de la **salud humana** y **animal**; **acelerar** el desarollo y  **facilitar** la llegada al mercado de productos que mejoren la salud en el país."
      ],
      "metadata": {
        "id": "i6Sl--BMakf1"
      }
    },
    {
      "cell_type": "markdown",
      "source": [
        "#  Módelos Operación\n",
        "\n",
        "- **I+D de largo plago como Servicio**: Problemas de Investigación → (Soluciones de Investigación) Soluciones.\n",
        "\n",
        "- Incubadora: Problemas de Investigación → Spin-off.\n",
        "\n",
        "- Transferencia Tecnologica: …\n",
        "\n",
        "- Investigación Conjunta entre academia, gobierno y sector privado.\n",
        "\n",
        "- Invertir en el desarrollo, diversificación e incremento del contenido tecnológico de la producción nacional.\n",
        "\n",
        "- Proponer investigaciones y llegar a cabo al gobierno; en caso de ser aprobadas el gobierno debe de subsidiar el proyecto.\n",
        "\n",
        "- Manejar una red de Hospitales de Investigación.\n",
        "\n",
        "- Clinical Trials Support: AMED provides support for clinical trials to evaluate the safety and efficacy of new medical interventions, including drugs, devices, and therapies.\n",
        "\n",
        "- Healthcare Policy: AMED advises the Japanese government on healthcare policy based on the latest medical research and scientific evidence.\n",
        "\n",
        "- Capacity Building: AMED supports the development of research infrastructure and human resources in the field of medical research to enhance Japan's competitiveness in the global healthcare sector.\n"
      ],
      "metadata": {
        "id": "zo7HoDHKWW0j"
      }
    },
    {
      "cell_type": "markdown",
      "source": [
        "## Modelo de Financiamiento"
      ],
      "metadata": {
        "id": "W__LYbqjbNGH"
      }
    },
    {
      "cell_type": "markdown",
      "source": [
        "...."
      ],
      "metadata": {
        "id": "-nrDGZu-bOTH"
      }
    },
    {
      "cell_type": "markdown",
      "source": [
        "## Gobierno Corporativo"
      ],
      "metadata": {
        "id": "jgiHGJt8bsCo"
      }
    },
    {
      "cell_type": "markdown",
      "source": [
        "..."
      ],
      "metadata": {
        "id": "Ct95h04rbt6t"
      }
    },
    {
      "cell_type": "markdown",
      "source": [
        "## Objetivos Generales"
      ],
      "metadata": {
        "id": "KF73fvcibwMJ"
      }
    },
    {
      "cell_type": "markdown",
      "source": [
        "..."
      ],
      "metadata": {
        "id": "AReAXHgzbxeE"
      }
    },
    {
      "cell_type": "markdown",
      "source": [
        "## Organización"
      ],
      "metadata": {
        "id": "5Vc97zh9bznn"
      }
    },
    {
      "cell_type": "markdown",
      "source": [
        "..."
      ],
      "metadata": {
        "id": "KTKmy9khb0eP"
      }
    },
    {
      "cell_type": "markdown",
      "source": [
        "## Areas de Conocimiento"
      ],
      "metadata": {
        "id": "DH9zPiFBcZa9"
      }
    },
    {
      "cell_type": "markdown",
      "source": [
        "## Areas de Negocio"
      ],
      "metadata": {
        "id": "uXeSydyjcama"
      }
    },
    {
      "cell_type": "markdown",
      "source": [
        "> Areas: Medicina Humana, Animal, Cosmetología, Medicina del Deporte, ...\n",
        "\n",
        "Algunos tipos comunes de **productos** resultantes de la **investigación médica** incluyen:\n",
        "\n",
        "1. **Farmacéuticos**: Medicamentos desarrollados para tratar, curar o prevenir enfermedades y condiciones médicas.\n",
        "\n",
        "2. **Biológicos**: Sustancias biológicamente derivadas utilizadas con fines terapéuticos, como vacunas, anticuerpos y terapias génicas.\n",
        "\n",
        "3. **Dispositivos Médicos**: Instrumentos, máquinas, implantes u otros dispositivos utilizados para el diagnóstico, monitoreo o tratamiento médico.\n",
        "\n",
        "4. **Diagnósticos**: Pruebas, herramientas o tecnologías utilizadas para diagnosticar condiciones médicas, como técnicas de imagen, pruebas de laboratorio y pruebas genéticas.\n",
        "\n",
        "5. **Cosmecéuticos**: Productos cosméticos con ingredientes biológicamente activos que proporcionan beneficios para la salud, como cremas antienvejecimiento o protector solar.\n",
        "\n",
        "6. **Nutracéuticos**: Alimentos o productos alimenticios que proporcionan beneficios para la salud más allá de la nutrición básica, a menudo contienen ingredientes con propiedades medicinales.\n",
        "\n",
        "7. **Materiales Biomédicos**: Materiales utilizados en dispositivos médicos, implantes o ingeniería de tejidos, como biomateriales, andamios y órganos artificiales.\n",
        "\n",
        "8. **Soluciones de Tecnología de la Información en Salud**: Software, aplicaciones o sistemas utilizados para la gestión de la salud, registros electrónicos de salud, telemedicina y análisis de datos de investigación médica.\n",
        "\n",
        "9. **Ayudas de Rehabilitación**: Dispositivos, herramientas o equipos utilizados en terapia de rehabilitación para ayudar en la movilidad, fuerza o recuperación de la función.\n",
        "\n",
        "10. **Productos de Salud y Bienestar**: Productos diseñados para promover la salud y el bienestar en general, como vitaminas, suplementos y rastreadores de fitness.\n",
        "\n",
        "11. **Medicina Personalizada**: Tratamientos y terapias adaptados a la composición genética, estilo de vida y otros factores individuales.\n",
        "\n",
        "12. **Productos Deportivos y de Fitness**: Suplementos, equipos y dispositivos portátiles diseñados para mejorar el rendimiento atlético, ayudar en la recuperación y mejorar la aptitud física en general.\n",
        "\n",
        "13. **Productos de Medicina Regenerativa**: Terapias y tratamientos que utilizan células madre, ingeniería de tejidos y otros enfoques para regenerar o reemplazar tejidos y órganos dañados.\n",
        "\n",
        "14. **Pruebas de Diagnóstico**: Kits y herramientas utilizadas para detectar y diagnosticar enfermedades, infecciones y condiciones médicas.\n",
        "\n",
        "15. **Equipamiento de Entrenamiento**: Herramientas y dispositivos utilizados para fines específicos de entrenamiento, como escaleras de agilidad, bandas de resistencia y cajas pliométricas.\n",
        "\n",
        "16. **Herramientas de Recuperación**: Productos diseñados para ayudar en la recuperación, como rodillos de espuma, pelotas de masaje y masajeadores de percusión.\n",
        "\n",
        "17. **Productos de Medicina Deportiva**: Elementos utilizados para la prevención y tratamiento de lesiones, como férulas, vendajes y compresas de hielo.\n",
        "\n",
        "\n"
      ],
      "metadata": {
        "id": "0CklTRZtccDS"
      }
    },
    {
      "cell_type": "markdown",
      "source": [
        "## Estrategía de Desarollo"
      ],
      "metadata": {
        "id": "LnERaNG1b2cr"
      }
    },
    {
      "cell_type": "markdown",
      "source": [
        "## Laboratorios\n",
        "\n",
        "> **Basic Research Labs**: Conducting fundamental research to understand the underlying mechanisms of diseases and biological processes.\n",
        "\n",
        "> **Clinical Research Labs**: Focused on conducting clinical trials and studies to evaluate new treatments, drugs, and medical devices.\n",
        "\n",
        "> **Translational Research Labs**: Translating basic scientific discoveries into practical applications for patient care.\n",
        "\n",
        "> **Disease Specific Research Lab**: ...\n",
        "\n",
        "> **Bodypart Specific Resarch Lab**: ...\n",
        "\n",
        "> **Multidisciplinary - Integrative Lab**: ..."
      ],
      "metadata": {
        "id": "LTzJMoOtsH3R"
      }
    },
    {
      "cell_type": "markdown",
      "source": [
        "\n",
        "- Genomics Labs\n",
        "\n",
        "- Molecular Biology Lab\n",
        "\n",
        "- **Biomedical Engineering Labs**: Designing and developing medical devices, prosthetics, and technologies for healthcare applications.\n",
        "\n",
        "- **Radiology Labs**: Developing and improving imaging techniques for diagnostics and research purposes.\n",
        "\n",
        "- **Bioinformatics Labs**: Analyzing and interpreting biological data, especially related to genomics and other high-throughput techniques.\n",
        "\n",
        "-  **Neuroscience Labs**: Studying the brain and nervous system to understand neurological disorders and develop treatments.\n",
        "\n",
        "- Biologia Aplicada\n",
        "\n",
        "- Biochemistry Lab\n",
        "\n",
        "- Molecular Biology Lab\n",
        "\n",
        "- Biostatistics Lab\n",
        "\n",
        "- Ageing Lab\n",
        "\n",
        "- Neurodevelopmental Disorders Lab\n",
        "\n",
        "- Inflammation Lab\n",
        "\n",
        "- Reproductive Health Lab\n",
        "\n",
        "- Bacteriology Lab\n",
        "\n",
        "- Biomedical Lab: ?\n",
        "\n",
        "  - [Francis Crick Institute](https://www.crick.ac.uk/)\n",
        "\n",
        "- Medical Mycology Lab: It researches fungal infections and their impact on human health.\n",
        "\n",
        "- **Immunology Lab**: Studies the immune system and immune responses.\n",
        "\n",
        "- Human Genetics Lab\n",
        "\n",
        "- Biophysics Lab\n",
        "\n",
        "- **Cancer Biology Lab**: Focuses on understanding cancer mechanisms and developing new treatments.\n",
        "\n",
        "- **Developmental Biology Lab**: Studies the processes of organismal development and differentiation.\n",
        "\n",
        "- Epidemiology Lab: Studies population health and disease patterns.\n",
        "\n",
        "- Nanotechnology Lab: Applies nanotechnology to biomedical research.\n",
        "\n",
        "- Systems Biology Lab: Integrates data from various biological fields to understand complex biological systems.\n",
        "\n",
        "- Microscopy Lab: ...\n",
        "\n",
        "- Public Health Lab\n",
        "\n",
        "- Myology Lab\n",
        "\n",
        "- Gegenerative Medicine Lab\n",
        "\n",
        "- Endocrinology Lab\n",
        "\n",
        "- Cellular Pharmacology Lab\n",
        "\n",
        "- Cardiovascular Biology Lab\n",
        "\n",
        "- **Structural Biology Lab**: Uses techniques like X-ray crystallography and NMR spectroscopy to study the 3D structures of biomolecules.\n",
        "\n",
        "- Integrative Neuroscience Lab\n",
        "\n",
        "- Vision Lab\n",
        "\n",
        "- Medicinal Chemistry Lab: Focuses on the design and synthesis of new chemical entities with potential therapeutic effects.\n",
        "\n",
        "- Pharmacology Lab: Studies the effects and mechanisms of drugs on biological systems.\n",
        "\n",
        "- Pharmacokinetics Lab: Analyzes the absorption, distribution, metabolism, and excretion (ADME) of drugs.\n",
        "\n",
        "- Pharmacodynamics Lab: Examines the biochemical and physiological effects of drugs and their mechanisms of action.\n",
        "\n",
        "- Toxicology Lab: Assesses the safety and potential adverse effects of drugs.\n",
        "\n",
        "- Proteomics Lab: Studies the genetic and protein profiles associated with drug responses and disease states.\n",
        "\n",
        "- Analytical Chemistry Lab: Develops and applies methods to analyze drug compounds and their metabolites.\n",
        "\n",
        "- Precision Medicine Lab: Focuses on tailoring medical treatments to individual patients based on genetic, environmental, and lifestyle factors.\n",
        "\n",
        "- **Infectious Diseases Lab**: Investigates pathogens (bacteria, viruses, fungi) and infectious diseases.\n",
        "\n",
        "- ...\n"
      ],
      "metadata": {
        "id": "FoWGDTSBsJsL"
      }
    },
    {
      "cell_type": "markdown",
      "source": [
        "## Referencias\n",
        "\n",
        "\n",
        "Human Health:\n",
        "- [Inserm](https://www.inserm.fr/en/home/)\n",
        "- [National Institutes of Health](https://en.wikipedia.org/wiki/National_Institutes_of_Health)\n",
        "- [Japan Agency for Medical Research and Development](https://www.amed.go.jp/en/)\n",
        "- [Medical Research Council (MRC)](https://www.ukri.org/councils/mrc/)\n",
        "- [Broad Institu](https://www.broadinstitute.org/)\n",
        "- [Harvard Medical School](https://hms.harvard.edu/)\n",
        "- [Karolinska Institutet](https://ki.se/en)\n",
        "- Mayo Clinic\n",
        "- Cleveland Clinic\n",
        "- Johns Hopkins Hospital\n",
        "- Singapore General Hospital\n",
        "- Royal Marsden Hospital\n",
        "- National Institutes of Health (NIH)\n",
        "- Charité – Universitätsmedizin Berlin\n",
        "- St. Jude Children's Research Hospital\n",
        "- Mount Sinai Hospital\n",
        "- West China Hospital, Sichuan University\n",
        "- Institut Pasteur\n",
        "- Shanghai Institutes for Biological Sciences (SIBS)\n",
        "- European Molecular Biology Laboratory (EMBL)\n",
        "- Australian Institute of Health and Welfare (AIHW)\n",
        "- McGill University Health Centre\n",
        "- Japan Agency for Medical Research and Development (AMED)\n",
        "- Australian National Health and Medical Research Council (NHMRC)\n",
        "- Korea National Institute of Health (KNIH)\n",
        "- Canadian Institutes of Health Research (CIHR)\n",
        "- Institute of Health Carlos III (ISCIII)\n",
        "- National Institute for Health and Care Research (NIHR)\n",
        "\n",
        "\n",
        "Medical Devices:\n",
        "- Singapore Institute for Clinical Sciences (SICS)\n",
        "- Medical Technology Research Institute (MTRI)\n",
        "- Center for Medical Technology Policy (CMTP)\n",
        "- The BioRobotics Institute\n",
        "- Institute for Medical Science and Technology (IMSaT)\n",
        "- Center for Medical Device Evaluation (CMDE)\n",
        "- Centre for Health Technologies (CHT)\n",
        "- Fraunhofer Institute for Medical Image Computing\n",
        "\n",
        "Animal Health:\n",
        "- National Institute of Animal Health (NIAH)\n",
        "- Centre for Animal Health Research (INIA)\n",
        "- Agri-Food and Biosciences Institute (AFBI)\n",
        "- Animal Diseases Research Institute (ADRI)\n",
        "- Veterinary Laboratories Agency (VLA)\n",
        "- Friedrich-Loeffler-Institut (FLI)\n",
        "\n",
        "Cosmetology:\n",
        "- L'Oréal Research & Innovation\n",
        "- Shiseido Global Innovation Center\n",
        "- ...\n",
        "\n",
        "Sports Science:\n",
        "- Australian Institute of Sport (AIS)\n",
        "- Aspetar\n",
        "- Institute of Sport Sciences of the University of Lausanne (ISSUL)\n",
        "- Manchester Institute of Health & Performance\n",
        "- Research Institute for Sport and Exercise Sciences (RISES)\n",
        "- Swedish School of Sport and Health Sciences (GIH)\n",
        "- Sports Science Research Group at the University of Jyväskylä\n",
        "- The Sports Performance Research Institute New Zealand (SPRINZ)"
      ],
      "metadata": {
        "id": "3HRUgkERLRvH"
      }
    }
  ]
}